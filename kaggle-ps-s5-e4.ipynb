{
 "cells": [
  {
   "cell_type": "code",
   "execution_count": 1,
   "id": "1a73ff83",
   "metadata": {
    "_cell_guid": "b1076dfc-b9ad-4769-8c92-a6c4dae69d19",
    "_uuid": "8f2839f25d086af736a60e9eeb907d3b93b6e0e5",
    "execution": {
     "iopub.execute_input": "2025-04-03T13:37:48.701345Z",
     "iopub.status.busy": "2025-04-03T13:37:48.700826Z",
     "iopub.status.idle": "2025-04-03T13:38:08.960363Z",
     "shell.execute_reply": "2025-04-03T13:38:08.958995Z"
    },
    "papermill": {
     "duration": 20.268596,
     "end_time": "2025-04-03T13:38:08.962213",
     "exception": false,
     "start_time": "2025-04-03T13:37:48.693617",
     "status": "completed"
    },
    "tags": []
   },
   "outputs": [
    {
     "name": "stdout",
     "output_type": "stream",
     "text": [
      "/kaggle/input/playground-series-s5e4/sample_submission.csv\n",
      "/kaggle/input/playground-series-s5e4/train.csv\n",
      "/kaggle/input/playground-series-s5e4/test.csv\n"
     ]
    }
   ],
   "source": [
    "# This Python 3 environment comes with many helpful analytics libraries installed\n",
    "# It is defined by the kaggle/python Docker image: https://github.com/kaggle/docker-python\n",
    "# For example, here's several helpful packages to load\n",
    "\n",
    "import math\n",
    "import warnings\n",
    "warnings.filterwarnings('ignore')\n",
    "\n",
    "import numpy as np # linear algebra\n",
    "import pandas as pd # data processing, CSV file I/O (e.g. pd.read_csv)\n",
    "import matplotlib.pyplot as plt\n",
    "import seaborn as sns\n",
    "\n",
    "from sklearn.preprocessing import OneHotEncoder\n",
    "from sklearn.model_selection import train_test_split\n",
    "from sklearn.metrics import mean_squared_error\n",
    "\n",
    "import xgboost\n",
    "import tensorflow as tf\n",
    "\n",
    "# Input data files are available in the read-only \"../input/\" directory\n",
    "# For example, running this (by clicking run or pressing Shift+Enter) will list all files under the input directory\n",
    "\n",
    "import os\n",
    "for dirname, _, filenames in os.walk('/kaggle/input'):\n",
    "    for filename in filenames:\n",
    "        print(os.path.join(dirname, filename))\n",
    "\n",
    "# You can write up to 20GB to the current directory (/kaggle/working/) that gets preserved as output when you create a version using \"Save & Run All\" \n",
    "# You can also write temporary files to /kaggle/temp/, but they won't be saved outside of the current session"
   ]
  },
  {
   "cell_type": "code",
   "execution_count": 2,
   "id": "bb870c6e",
   "metadata": {
    "execution": {
     "iopub.execute_input": "2025-04-03T13:38:08.975308Z",
     "iopub.status.busy": "2025-04-03T13:38:08.974576Z",
     "iopub.status.idle": "2025-04-03T13:38:08.980925Z",
     "shell.execute_reply": "2025-04-03T13:38:08.979645Z"
    },
    "papermill": {
     "duration": 0.014409,
     "end_time": "2025-04-03T13:38:08.982619",
     "exception": false,
     "start_time": "2025-04-03T13:38:08.968210",
     "status": "completed"
    },
    "tags": []
   },
   "outputs": [],
   "source": [
    "def show(df, n_rows=5, sort=None):\n",
    "    if n_rows == 'all':\n",
    "        if sort is not None:\n",
    "            df = df.sort_values(sort, ascending=False)\n",
    "        display(df.head(df.shape[0]))\n",
    "        print(f\"{df.shape[0]} rows x {df.shape[1]} columns\")\n",
    "    else:\n",
    "        if sort:\n",
    "            df = df.sort_values(sort, ascending=False)\n",
    "        display(df.head(n_rows))\n",
    "        print(f\"{df.shape[0]} rows x {df.shape[1]} columns\")"
   ]
  },
  {
   "cell_type": "code",
   "execution_count": 3,
   "id": "c0c3f321",
   "metadata": {
    "execution": {
     "iopub.execute_input": "2025-04-03T13:38:08.995442Z",
     "iopub.status.busy": "2025-04-03T13:38:08.995013Z",
     "iopub.status.idle": "2025-04-03T13:38:09.003249Z",
     "shell.execute_reply": "2025-04-03T13:38:09.002061Z"
    },
    "papermill": {
     "duration": 0.016785,
     "end_time": "2025-04-03T13:38:09.004963",
     "exception": false,
     "start_time": "2025-04-03T13:38:08.988178",
     "status": "completed"
    },
    "tags": []
   },
   "outputs": [
    {
     "name": "stdout",
     "output_type": "stream",
     "text": [
      "GPU is not available\n"
     ]
    }
   ],
   "source": [
    "global device\n",
    "\n",
    "gpus = tf.config.list_physical_devices('GPU')\n",
    "if gpus:\n",
    "    print(\"GPU is available\")\n",
    "    device = 'gpu'\n",
    "else:\n",
    "    print(\"GPU is not available\")\n",
    "    device = 'cpu'"
   ]
  },
  {
   "cell_type": "code",
   "execution_count": 4,
   "id": "75bcae2c",
   "metadata": {
    "execution": {
     "iopub.execute_input": "2025-04-03T13:38:09.017083Z",
     "iopub.status.busy": "2025-04-03T13:38:09.016681Z",
     "iopub.status.idle": "2025-04-03T13:38:12.040939Z",
     "shell.execute_reply": "2025-04-03T13:38:12.039743Z"
    },
    "papermill": {
     "duration": 3.032004,
     "end_time": "2025-04-03T13:38:12.042518",
     "exception": false,
     "start_time": "2025-04-03T13:38:09.010514",
     "status": "completed"
    },
    "tags": []
   },
   "outputs": [
    {
     "data": {
      "text/html": [
       "<div>\n",
       "<style scoped>\n",
       "    .dataframe tbody tr th:only-of-type {\n",
       "        vertical-align: middle;\n",
       "    }\n",
       "\n",
       "    .dataframe tbody tr th {\n",
       "        vertical-align: top;\n",
       "    }\n",
       "\n",
       "    .dataframe thead th {\n",
       "        text-align: right;\n",
       "    }\n",
       "</style>\n",
       "<table border=\"1\" class=\"dataframe\">\n",
       "  <thead>\n",
       "    <tr style=\"text-align: right;\">\n",
       "      <th></th>\n",
       "      <th>id</th>\n",
       "      <th>Podcast_Name</th>\n",
       "      <th>Episode_Title</th>\n",
       "      <th>Episode_Length_minutes</th>\n",
       "      <th>Genre</th>\n",
       "      <th>Host_Popularity_percentage</th>\n",
       "      <th>Publication_Day</th>\n",
       "      <th>Publication_Time</th>\n",
       "      <th>Guest_Popularity_percentage</th>\n",
       "      <th>Number_of_Ads</th>\n",
       "      <th>Episode_Sentiment</th>\n",
       "      <th>Listening_Time_minutes</th>\n",
       "    </tr>\n",
       "  </thead>\n",
       "  <tbody>\n",
       "    <tr>\n",
       "      <th>0</th>\n",
       "      <td>0</td>\n",
       "      <td>Mystery Matters</td>\n",
       "      <td>Episode 98</td>\n",
       "      <td>NaN</td>\n",
       "      <td>True Crime</td>\n",
       "      <td>74.81</td>\n",
       "      <td>Thursday</td>\n",
       "      <td>Night</td>\n",
       "      <td>NaN</td>\n",
       "      <td>0.0</td>\n",
       "      <td>Positive</td>\n",
       "      <td>31.41998</td>\n",
       "    </tr>\n",
       "    <tr>\n",
       "      <th>1</th>\n",
       "      <td>1</td>\n",
       "      <td>Joke Junction</td>\n",
       "      <td>Episode 26</td>\n",
       "      <td>119.80</td>\n",
       "      <td>Comedy</td>\n",
       "      <td>66.95</td>\n",
       "      <td>Saturday</td>\n",
       "      <td>Afternoon</td>\n",
       "      <td>75.95</td>\n",
       "      <td>2.0</td>\n",
       "      <td>Negative</td>\n",
       "      <td>88.01241</td>\n",
       "    </tr>\n",
       "    <tr>\n",
       "      <th>2</th>\n",
       "      <td>2</td>\n",
       "      <td>Study Sessions</td>\n",
       "      <td>Episode 16</td>\n",
       "      <td>73.90</td>\n",
       "      <td>Education</td>\n",
       "      <td>69.97</td>\n",
       "      <td>Tuesday</td>\n",
       "      <td>Evening</td>\n",
       "      <td>8.97</td>\n",
       "      <td>0.0</td>\n",
       "      <td>Negative</td>\n",
       "      <td>44.92531</td>\n",
       "    </tr>\n",
       "    <tr>\n",
       "      <th>3</th>\n",
       "      <td>3</td>\n",
       "      <td>Digital Digest</td>\n",
       "      <td>Episode 45</td>\n",
       "      <td>67.17</td>\n",
       "      <td>Technology</td>\n",
       "      <td>57.22</td>\n",
       "      <td>Monday</td>\n",
       "      <td>Morning</td>\n",
       "      <td>78.70</td>\n",
       "      <td>2.0</td>\n",
       "      <td>Positive</td>\n",
       "      <td>46.27824</td>\n",
       "    </tr>\n",
       "    <tr>\n",
       "      <th>4</th>\n",
       "      <td>4</td>\n",
       "      <td>Mind &amp; Body</td>\n",
       "      <td>Episode 86</td>\n",
       "      <td>110.51</td>\n",
       "      <td>Health</td>\n",
       "      <td>80.07</td>\n",
       "      <td>Monday</td>\n",
       "      <td>Afternoon</td>\n",
       "      <td>58.68</td>\n",
       "      <td>3.0</td>\n",
       "      <td>Neutral</td>\n",
       "      <td>75.61031</td>\n",
       "    </tr>\n",
       "  </tbody>\n",
       "</table>\n",
       "</div>"
      ],
      "text/plain": [
       "   id     Podcast_Name Episode_Title  Episode_Length_minutes       Genre  \\\n",
       "0   0  Mystery Matters    Episode 98                     NaN  True Crime   \n",
       "1   1    Joke Junction    Episode 26                  119.80      Comedy   \n",
       "2   2   Study Sessions    Episode 16                   73.90   Education   \n",
       "3   3   Digital Digest    Episode 45                   67.17  Technology   \n",
       "4   4      Mind & Body    Episode 86                  110.51      Health   \n",
       "\n",
       "   Host_Popularity_percentage Publication_Day Publication_Time  \\\n",
       "0                       74.81        Thursday            Night   \n",
       "1                       66.95        Saturday        Afternoon   \n",
       "2                       69.97         Tuesday          Evening   \n",
       "3                       57.22          Monday          Morning   \n",
       "4                       80.07          Monday        Afternoon   \n",
       "\n",
       "   Guest_Popularity_percentage  Number_of_Ads Episode_Sentiment  \\\n",
       "0                          NaN            0.0          Positive   \n",
       "1                        75.95            2.0          Negative   \n",
       "2                         8.97            0.0          Negative   \n",
       "3                        78.70            2.0          Positive   \n",
       "4                        58.68            3.0           Neutral   \n",
       "\n",
       "   Listening_Time_minutes  \n",
       "0                31.41998  \n",
       "1                88.01241  \n",
       "2                44.92531  \n",
       "3                46.27824  \n",
       "4                75.61031  "
      ]
     },
     "metadata": {},
     "output_type": "display_data"
    },
    {
     "name": "stdout",
     "output_type": "stream",
     "text": [
      "750000 rows x 12 columns\n"
     ]
    },
    {
     "data": {
      "text/html": [
       "<div>\n",
       "<style scoped>\n",
       "    .dataframe tbody tr th:only-of-type {\n",
       "        vertical-align: middle;\n",
       "    }\n",
       "\n",
       "    .dataframe tbody tr th {\n",
       "        vertical-align: top;\n",
       "    }\n",
       "\n",
       "    .dataframe thead th {\n",
       "        text-align: right;\n",
       "    }\n",
       "</style>\n",
       "<table border=\"1\" class=\"dataframe\">\n",
       "  <thead>\n",
       "    <tr style=\"text-align: right;\">\n",
       "      <th></th>\n",
       "      <th>id</th>\n",
       "      <th>Podcast_Name</th>\n",
       "      <th>Episode_Title</th>\n",
       "      <th>Episode_Length_minutes</th>\n",
       "      <th>Genre</th>\n",
       "      <th>Host_Popularity_percentage</th>\n",
       "      <th>Publication_Day</th>\n",
       "      <th>Publication_Time</th>\n",
       "      <th>Guest_Popularity_percentage</th>\n",
       "      <th>Number_of_Ads</th>\n",
       "      <th>Episode_Sentiment</th>\n",
       "    </tr>\n",
       "  </thead>\n",
       "  <tbody>\n",
       "    <tr>\n",
       "      <th>0</th>\n",
       "      <td>750000</td>\n",
       "      <td>Educational Nuggets</td>\n",
       "      <td>Episode 73</td>\n",
       "      <td>78.96</td>\n",
       "      <td>Education</td>\n",
       "      <td>38.11</td>\n",
       "      <td>Saturday</td>\n",
       "      <td>Evening</td>\n",
       "      <td>53.33</td>\n",
       "      <td>1.0</td>\n",
       "      <td>Neutral</td>\n",
       "    </tr>\n",
       "    <tr>\n",
       "      <th>1</th>\n",
       "      <td>750001</td>\n",
       "      <td>Sound Waves</td>\n",
       "      <td>Episode 23</td>\n",
       "      <td>27.87</td>\n",
       "      <td>Music</td>\n",
       "      <td>71.29</td>\n",
       "      <td>Sunday</td>\n",
       "      <td>Morning</td>\n",
       "      <td>NaN</td>\n",
       "      <td>0.0</td>\n",
       "      <td>Neutral</td>\n",
       "    </tr>\n",
       "    <tr>\n",
       "      <th>2</th>\n",
       "      <td>750002</td>\n",
       "      <td>Joke Junction</td>\n",
       "      <td>Episode 11</td>\n",
       "      <td>69.10</td>\n",
       "      <td>Comedy</td>\n",
       "      <td>67.89</td>\n",
       "      <td>Friday</td>\n",
       "      <td>Evening</td>\n",
       "      <td>97.51</td>\n",
       "      <td>0.0</td>\n",
       "      <td>Positive</td>\n",
       "    </tr>\n",
       "    <tr>\n",
       "      <th>3</th>\n",
       "      <td>750003</td>\n",
       "      <td>Comedy Corner</td>\n",
       "      <td>Episode 73</td>\n",
       "      <td>115.39</td>\n",
       "      <td>Comedy</td>\n",
       "      <td>23.40</td>\n",
       "      <td>Sunday</td>\n",
       "      <td>Morning</td>\n",
       "      <td>51.75</td>\n",
       "      <td>2.0</td>\n",
       "      <td>Positive</td>\n",
       "    </tr>\n",
       "    <tr>\n",
       "      <th>4</th>\n",
       "      <td>750004</td>\n",
       "      <td>Life Lessons</td>\n",
       "      <td>Episode 50</td>\n",
       "      <td>72.32</td>\n",
       "      <td>Lifestyle</td>\n",
       "      <td>58.10</td>\n",
       "      <td>Wednesday</td>\n",
       "      <td>Morning</td>\n",
       "      <td>11.30</td>\n",
       "      <td>2.0</td>\n",
       "      <td>Neutral</td>\n",
       "    </tr>\n",
       "  </tbody>\n",
       "</table>\n",
       "</div>"
      ],
      "text/plain": [
       "       id         Podcast_Name Episode_Title  Episode_Length_minutes  \\\n",
       "0  750000  Educational Nuggets    Episode 73                   78.96   \n",
       "1  750001          Sound Waves    Episode 23                   27.87   \n",
       "2  750002        Joke Junction    Episode 11                   69.10   \n",
       "3  750003        Comedy Corner    Episode 73                  115.39   \n",
       "4  750004         Life Lessons    Episode 50                   72.32   \n",
       "\n",
       "       Genre  Host_Popularity_percentage Publication_Day Publication_Time  \\\n",
       "0  Education                       38.11        Saturday          Evening   \n",
       "1      Music                       71.29          Sunday          Morning   \n",
       "2     Comedy                       67.89          Friday          Evening   \n",
       "3     Comedy                       23.40          Sunday          Morning   \n",
       "4  Lifestyle                       58.10       Wednesday          Morning   \n",
       "\n",
       "   Guest_Popularity_percentage  Number_of_Ads Episode_Sentiment  \n",
       "0                        53.33            1.0           Neutral  \n",
       "1                          NaN            0.0           Neutral  \n",
       "2                        97.51            0.0          Positive  \n",
       "3                        51.75            2.0          Positive  \n",
       "4                        11.30            2.0           Neutral  "
      ]
     },
     "metadata": {},
     "output_type": "display_data"
    },
    {
     "name": "stdout",
     "output_type": "stream",
     "text": [
      "250000 rows x 11 columns\n"
     ]
    },
    {
     "data": {
      "text/html": [
       "<div>\n",
       "<style scoped>\n",
       "    .dataframe tbody tr th:only-of-type {\n",
       "        vertical-align: middle;\n",
       "    }\n",
       "\n",
       "    .dataframe tbody tr th {\n",
       "        vertical-align: top;\n",
       "    }\n",
       "\n",
       "    .dataframe thead th {\n",
       "        text-align: right;\n",
       "    }\n",
       "</style>\n",
       "<table border=\"1\" class=\"dataframe\">\n",
       "  <thead>\n",
       "    <tr style=\"text-align: right;\">\n",
       "      <th></th>\n",
       "      <th>id</th>\n",
       "      <th>Listening_Time_minutes</th>\n",
       "    </tr>\n",
       "  </thead>\n",
       "  <tbody>\n",
       "    <tr>\n",
       "      <th>0</th>\n",
       "      <td>750000</td>\n",
       "      <td>45.437</td>\n",
       "    </tr>\n",
       "    <tr>\n",
       "      <th>1</th>\n",
       "      <td>750001</td>\n",
       "      <td>45.437</td>\n",
       "    </tr>\n",
       "    <tr>\n",
       "      <th>2</th>\n",
       "      <td>750002</td>\n",
       "      <td>45.437</td>\n",
       "    </tr>\n",
       "    <tr>\n",
       "      <th>3</th>\n",
       "      <td>750003</td>\n",
       "      <td>45.437</td>\n",
       "    </tr>\n",
       "    <tr>\n",
       "      <th>4</th>\n",
       "      <td>750004</td>\n",
       "      <td>45.437</td>\n",
       "    </tr>\n",
       "  </tbody>\n",
       "</table>\n",
       "</div>"
      ],
      "text/plain": [
       "       id  Listening_Time_minutes\n",
       "0  750000                  45.437\n",
       "1  750001                  45.437\n",
       "2  750002                  45.437\n",
       "3  750003                  45.437\n",
       "4  750004                  45.437"
      ]
     },
     "metadata": {},
     "output_type": "display_data"
    },
    {
     "name": "stdout",
     "output_type": "stream",
     "text": [
      "250000 rows x 2 columns\n"
     ]
    }
   ],
   "source": [
    "train_df = pd.read_csv(\"/kaggle/input/playground-series-s5e4/train.csv\")\n",
    "show(train_df)\n",
    "\n",
    "test_df = pd.read_csv(\"/kaggle/input/playground-series-s5e4/test.csv\")\n",
    "show(test_df)\n",
    "\n",
    "submission=pd.read_csv(\"/kaggle/input/playground-series-s5e4/sample_submission.csv\")\n",
    "show(submission)"
   ]
  },
  {
   "cell_type": "code",
   "execution_count": 5,
   "id": "6d532961",
   "metadata": {
    "execution": {
     "iopub.execute_input": "2025-04-03T13:38:12.056146Z",
     "iopub.status.busy": "2025-04-03T13:38:12.055779Z",
     "iopub.status.idle": "2025-04-03T13:38:12.151496Z",
     "shell.execute_reply": "2025-04-03T13:38:12.150340Z"
    },
    "papermill": {
     "duration": 0.104388,
     "end_time": "2025-04-03T13:38:12.153173",
     "exception": false,
     "start_time": "2025-04-03T13:38:12.048785",
     "status": "completed"
    },
    "tags": []
   },
   "outputs": [
    {
     "data": {
      "text/html": [
       "<div>\n",
       "<style scoped>\n",
       "    .dataframe tbody tr th:only-of-type {\n",
       "        vertical-align: middle;\n",
       "    }\n",
       "\n",
       "    .dataframe tbody tr th {\n",
       "        vertical-align: top;\n",
       "    }\n",
       "\n",
       "    .dataframe thead th {\n",
       "        text-align: right;\n",
       "    }\n",
       "</style>\n",
       "<table border=\"1\" class=\"dataframe\">\n",
       "  <thead>\n",
       "    <tr style=\"text-align: right;\">\n",
       "      <th></th>\n",
       "      <th>id</th>\n",
       "      <th>podcast_name</th>\n",
       "      <th>episode_title</th>\n",
       "      <th>episode_length_minutes</th>\n",
       "      <th>genre</th>\n",
       "      <th>host_popularity_percentage</th>\n",
       "      <th>publication_day</th>\n",
       "      <th>publication_time</th>\n",
       "      <th>guest_popularity_percentage</th>\n",
       "      <th>number_of_ads</th>\n",
       "      <th>episode_sentiment</th>\n",
       "      <th>listening_time_minutes</th>\n",
       "    </tr>\n",
       "  </thead>\n",
       "  <tbody>\n",
       "    <tr>\n",
       "      <th>0</th>\n",
       "      <td>0</td>\n",
       "      <td>Mystery Matters</td>\n",
       "      <td>Episode 98</td>\n",
       "      <td>NaN</td>\n",
       "      <td>True Crime</td>\n",
       "      <td>74.81</td>\n",
       "      <td>Thursday</td>\n",
       "      <td>Night</td>\n",
       "      <td>NaN</td>\n",
       "      <td>0.0</td>\n",
       "      <td>Positive</td>\n",
       "      <td>31.41998</td>\n",
       "    </tr>\n",
       "    <tr>\n",
       "      <th>1</th>\n",
       "      <td>1</td>\n",
       "      <td>Joke Junction</td>\n",
       "      <td>Episode 26</td>\n",
       "      <td>119.80</td>\n",
       "      <td>Comedy</td>\n",
       "      <td>66.95</td>\n",
       "      <td>Saturday</td>\n",
       "      <td>Afternoon</td>\n",
       "      <td>75.95</td>\n",
       "      <td>2.0</td>\n",
       "      <td>Negative</td>\n",
       "      <td>88.01241</td>\n",
       "    </tr>\n",
       "    <tr>\n",
       "      <th>2</th>\n",
       "      <td>2</td>\n",
       "      <td>Study Sessions</td>\n",
       "      <td>Episode 16</td>\n",
       "      <td>73.90</td>\n",
       "      <td>Education</td>\n",
       "      <td>69.97</td>\n",
       "      <td>Tuesday</td>\n",
       "      <td>Evening</td>\n",
       "      <td>8.97</td>\n",
       "      <td>0.0</td>\n",
       "      <td>Negative</td>\n",
       "      <td>44.92531</td>\n",
       "    </tr>\n",
       "    <tr>\n",
       "      <th>3</th>\n",
       "      <td>3</td>\n",
       "      <td>Digital Digest</td>\n",
       "      <td>Episode 45</td>\n",
       "      <td>67.17</td>\n",
       "      <td>Technology</td>\n",
       "      <td>57.22</td>\n",
       "      <td>Monday</td>\n",
       "      <td>Morning</td>\n",
       "      <td>78.70</td>\n",
       "      <td>2.0</td>\n",
       "      <td>Positive</td>\n",
       "      <td>46.27824</td>\n",
       "    </tr>\n",
       "    <tr>\n",
       "      <th>4</th>\n",
       "      <td>4</td>\n",
       "      <td>Mind &amp; Body</td>\n",
       "      <td>Episode 86</td>\n",
       "      <td>110.51</td>\n",
       "      <td>Health</td>\n",
       "      <td>80.07</td>\n",
       "      <td>Monday</td>\n",
       "      <td>Afternoon</td>\n",
       "      <td>58.68</td>\n",
       "      <td>3.0</td>\n",
       "      <td>Neutral</td>\n",
       "      <td>75.61031</td>\n",
       "    </tr>\n",
       "  </tbody>\n",
       "</table>\n",
       "</div>"
      ],
      "text/plain": [
       "   id     podcast_name episode_title  episode_length_minutes       genre  \\\n",
       "0   0  Mystery Matters    Episode 98                     NaN  True Crime   \n",
       "1   1    Joke Junction    Episode 26                  119.80      Comedy   \n",
       "2   2   Study Sessions    Episode 16                   73.90   Education   \n",
       "3   3   Digital Digest    Episode 45                   67.17  Technology   \n",
       "4   4      Mind & Body    Episode 86                  110.51      Health   \n",
       "\n",
       "   host_popularity_percentage publication_day publication_time  \\\n",
       "0                       74.81        Thursday            Night   \n",
       "1                       66.95        Saturday        Afternoon   \n",
       "2                       69.97         Tuesday          Evening   \n",
       "3                       57.22          Monday          Morning   \n",
       "4                       80.07          Monday        Afternoon   \n",
       "\n",
       "   guest_popularity_percentage  number_of_ads episode_sentiment  \\\n",
       "0                          NaN            0.0          Positive   \n",
       "1                        75.95            2.0          Negative   \n",
       "2                         8.97            0.0          Negative   \n",
       "3                        78.70            2.0          Positive   \n",
       "4                        58.68            3.0           Neutral   \n",
       "\n",
       "   listening_time_minutes  \n",
       "0                31.41998  \n",
       "1                88.01241  \n",
       "2                44.92531  \n",
       "3                46.27824  \n",
       "4                75.61031  "
      ]
     },
     "metadata": {},
     "output_type": "display_data"
    },
    {
     "name": "stdout",
     "output_type": "stream",
     "text": [
      "750000 rows x 12 columns\n"
     ]
    },
    {
     "data": {
      "text/html": [
       "<div>\n",
       "<style scoped>\n",
       "    .dataframe tbody tr th:only-of-type {\n",
       "        vertical-align: middle;\n",
       "    }\n",
       "\n",
       "    .dataframe tbody tr th {\n",
       "        vertical-align: top;\n",
       "    }\n",
       "\n",
       "    .dataframe thead th {\n",
       "        text-align: right;\n",
       "    }\n",
       "</style>\n",
       "<table border=\"1\" class=\"dataframe\">\n",
       "  <thead>\n",
       "    <tr style=\"text-align: right;\">\n",
       "      <th></th>\n",
       "      <th>id</th>\n",
       "      <th>podcast_name</th>\n",
       "      <th>episode_title</th>\n",
       "      <th>episode_length_minutes</th>\n",
       "      <th>genre</th>\n",
       "      <th>host_popularity_percentage</th>\n",
       "      <th>publication_day</th>\n",
       "      <th>publication_time</th>\n",
       "      <th>guest_popularity_percentage</th>\n",
       "      <th>number_of_ads</th>\n",
       "      <th>episode_sentiment</th>\n",
       "    </tr>\n",
       "  </thead>\n",
       "  <tbody>\n",
       "    <tr>\n",
       "      <th>0</th>\n",
       "      <td>750000</td>\n",
       "      <td>Educational Nuggets</td>\n",
       "      <td>Episode 73</td>\n",
       "      <td>78.96</td>\n",
       "      <td>Education</td>\n",
       "      <td>38.11</td>\n",
       "      <td>Saturday</td>\n",
       "      <td>Evening</td>\n",
       "      <td>53.33</td>\n",
       "      <td>1.0</td>\n",
       "      <td>Neutral</td>\n",
       "    </tr>\n",
       "    <tr>\n",
       "      <th>1</th>\n",
       "      <td>750001</td>\n",
       "      <td>Sound Waves</td>\n",
       "      <td>Episode 23</td>\n",
       "      <td>27.87</td>\n",
       "      <td>Music</td>\n",
       "      <td>71.29</td>\n",
       "      <td>Sunday</td>\n",
       "      <td>Morning</td>\n",
       "      <td>NaN</td>\n",
       "      <td>0.0</td>\n",
       "      <td>Neutral</td>\n",
       "    </tr>\n",
       "    <tr>\n",
       "      <th>2</th>\n",
       "      <td>750002</td>\n",
       "      <td>Joke Junction</td>\n",
       "      <td>Episode 11</td>\n",
       "      <td>69.10</td>\n",
       "      <td>Comedy</td>\n",
       "      <td>67.89</td>\n",
       "      <td>Friday</td>\n",
       "      <td>Evening</td>\n",
       "      <td>97.51</td>\n",
       "      <td>0.0</td>\n",
       "      <td>Positive</td>\n",
       "    </tr>\n",
       "    <tr>\n",
       "      <th>3</th>\n",
       "      <td>750003</td>\n",
       "      <td>Comedy Corner</td>\n",
       "      <td>Episode 73</td>\n",
       "      <td>115.39</td>\n",
       "      <td>Comedy</td>\n",
       "      <td>23.40</td>\n",
       "      <td>Sunday</td>\n",
       "      <td>Morning</td>\n",
       "      <td>51.75</td>\n",
       "      <td>2.0</td>\n",
       "      <td>Positive</td>\n",
       "    </tr>\n",
       "    <tr>\n",
       "      <th>4</th>\n",
       "      <td>750004</td>\n",
       "      <td>Life Lessons</td>\n",
       "      <td>Episode 50</td>\n",
       "      <td>72.32</td>\n",
       "      <td>Lifestyle</td>\n",
       "      <td>58.10</td>\n",
       "      <td>Wednesday</td>\n",
       "      <td>Morning</td>\n",
       "      <td>11.30</td>\n",
       "      <td>2.0</td>\n",
       "      <td>Neutral</td>\n",
       "    </tr>\n",
       "  </tbody>\n",
       "</table>\n",
       "</div>"
      ],
      "text/plain": [
       "       id         podcast_name episode_title  episode_length_minutes  \\\n",
       "0  750000  Educational Nuggets    Episode 73                   78.96   \n",
       "1  750001          Sound Waves    Episode 23                   27.87   \n",
       "2  750002        Joke Junction    Episode 11                   69.10   \n",
       "3  750003        Comedy Corner    Episode 73                  115.39   \n",
       "4  750004         Life Lessons    Episode 50                   72.32   \n",
       "\n",
       "       genre  host_popularity_percentage publication_day publication_time  \\\n",
       "0  Education                       38.11        Saturday          Evening   \n",
       "1      Music                       71.29          Sunday          Morning   \n",
       "2     Comedy                       67.89          Friday          Evening   \n",
       "3     Comedy                       23.40          Sunday          Morning   \n",
       "4  Lifestyle                       58.10       Wednesday          Morning   \n",
       "\n",
       "   guest_popularity_percentage  number_of_ads episode_sentiment  \n",
       "0                        53.33            1.0           Neutral  \n",
       "1                          NaN            0.0           Neutral  \n",
       "2                        97.51            0.0          Positive  \n",
       "3                        51.75            2.0          Positive  \n",
       "4                        11.30            2.0           Neutral  "
      ]
     },
     "metadata": {},
     "output_type": "display_data"
    },
    {
     "name": "stdout",
     "output_type": "stream",
     "text": [
      "250000 rows x 11 columns\n"
     ]
    }
   ],
   "source": [
    "columns_name_mapping = {col: str.lower(col) for col in train_df.columns}\n",
    "\n",
    "train_df = train_df.rename(columns=columns_name_mapping)\n",
    "test_df = test_df.rename(columns=columns_name_mapping)\n",
    "\n",
    "show(train_df)\n",
    "show(test_df)"
   ]
  },
  {
   "cell_type": "code",
   "execution_count": 6,
   "id": "07f4b736",
   "metadata": {
    "execution": {
     "iopub.execute_input": "2025-04-03T13:38:12.167707Z",
     "iopub.status.busy": "2025-04-03T13:38:12.167373Z",
     "iopub.status.idle": "2025-04-03T13:38:12.236900Z",
     "shell.execute_reply": "2025-04-03T13:38:12.235819Z"
    },
    "papermill": {
     "duration": 0.078889,
     "end_time": "2025-04-03T13:38:12.238777",
     "exception": false,
     "start_time": "2025-04-03T13:38:12.159888",
     "status": "completed"
    },
    "tags": []
   },
   "outputs": [],
   "source": [
    "target = 'listening_time_minutes'\n",
    "\n",
    "train_copy = train_df.copy()\n",
    "test_copy = test_df.copy()"
   ]
  },
  {
   "cell_type": "markdown",
   "id": "e0a0888c",
   "metadata": {
    "papermill": {
     "duration": 0.006436,
     "end_time": "2025-04-03T13:38:12.252145",
     "exception": false,
     "start_time": "2025-04-03T13:38:12.245709",
     "status": "completed"
    },
    "tags": []
   },
   "source": [
    "# EDA"
   ]
  },
  {
   "cell_type": "markdown",
   "id": "25f43e02",
   "metadata": {
    "papermill": {
     "duration": 0.006748,
     "end_time": "2025-04-03T13:38:12.265692",
     "exception": false,
     "start_time": "2025-04-03T13:38:12.258944",
     "status": "completed"
    },
    "tags": []
   },
   "source": [
    "## Check missing values"
   ]
  },
  {
   "cell_type": "code",
   "execution_count": 7,
   "id": "43a0ff8a",
   "metadata": {
    "execution": {
     "iopub.execute_input": "2025-04-03T13:38:12.280617Z",
     "iopub.status.busy": "2025-04-03T13:38:12.280245Z",
     "iopub.status.idle": "2025-04-03T13:38:12.924348Z",
     "shell.execute_reply": "2025-04-03T13:38:12.923241Z"
    },
    "papermill": {
     "duration": 0.65341,
     "end_time": "2025-04-03T13:38:12.926004",
     "exception": false,
     "start_time": "2025-04-03T13:38:12.272594",
     "status": "completed"
    },
    "tags": []
   },
   "outputs": [
    {
     "data": {
      "text/html": [
       "<div>\n",
       "<style scoped>\n",
       "    .dataframe tbody tr th:only-of-type {\n",
       "        vertical-align: middle;\n",
       "    }\n",
       "\n",
       "    .dataframe tbody tr th {\n",
       "        vertical-align: top;\n",
       "    }\n",
       "\n",
       "    .dataframe thead th {\n",
       "        text-align: right;\n",
       "    }\n",
       "</style>\n",
       "<table border=\"1\" class=\"dataframe\">\n",
       "  <thead>\n",
       "    <tr style=\"text-align: right;\">\n",
       "      <th></th>\n",
       "      <th>Feature</th>\n",
       "      <th>Data Type</th>\n",
       "      <th>Train Missing %</th>\n",
       "      <th>Test Missing %</th>\n",
       "      <th>Discrete Ratio (Train)</th>\n",
       "    </tr>\n",
       "  </thead>\n",
       "  <tbody>\n",
       "    <tr>\n",
       "      <th>0</th>\n",
       "      <td>podcast_name</td>\n",
       "      <td>object</td>\n",
       "      <td>0.00</td>\n",
       "      <td>0.00</td>\n",
       "      <td>0.000</td>\n",
       "    </tr>\n",
       "    <tr>\n",
       "      <th>1</th>\n",
       "      <td>episode_title</td>\n",
       "      <td>object</td>\n",
       "      <td>0.00</td>\n",
       "      <td>0.00</td>\n",
       "      <td>0.000</td>\n",
       "    </tr>\n",
       "    <tr>\n",
       "      <th>2</th>\n",
       "      <td>episode_length_minutes</td>\n",
       "      <td>float64</td>\n",
       "      <td>0.12</td>\n",
       "      <td>0.11</td>\n",
       "      <td>0.016</td>\n",
       "    </tr>\n",
       "    <tr>\n",
       "      <th>3</th>\n",
       "      <td>genre</td>\n",
       "      <td>object</td>\n",
       "      <td>0.00</td>\n",
       "      <td>0.00</td>\n",
       "      <td>0.000</td>\n",
       "    </tr>\n",
       "    <tr>\n",
       "      <th>4</th>\n",
       "      <td>host_popularity_percentage</td>\n",
       "      <td>float64</td>\n",
       "      <td>0.00</td>\n",
       "      <td>0.00</td>\n",
       "      <td>0.011</td>\n",
       "    </tr>\n",
       "    <tr>\n",
       "      <th>5</th>\n",
       "      <td>publication_day</td>\n",
       "      <td>object</td>\n",
       "      <td>0.00</td>\n",
       "      <td>0.00</td>\n",
       "      <td>0.000</td>\n",
       "    </tr>\n",
       "    <tr>\n",
       "      <th>6</th>\n",
       "      <td>publication_time</td>\n",
       "      <td>object</td>\n",
       "      <td>0.00</td>\n",
       "      <td>0.00</td>\n",
       "      <td>0.000</td>\n",
       "    </tr>\n",
       "    <tr>\n",
       "      <th>7</th>\n",
       "      <td>guest_popularity_percentage</td>\n",
       "      <td>float64</td>\n",
       "      <td>0.19</td>\n",
       "      <td>0.20</td>\n",
       "      <td>0.013</td>\n",
       "    </tr>\n",
       "    <tr>\n",
       "      <th>8</th>\n",
       "      <td>number_of_ads</td>\n",
       "      <td>float64</td>\n",
       "      <td>0.00</td>\n",
       "      <td>0.00</td>\n",
       "      <td>0.000</td>\n",
       "    </tr>\n",
       "    <tr>\n",
       "      <th>9</th>\n",
       "      <td>episode_sentiment</td>\n",
       "      <td>object</td>\n",
       "      <td>0.00</td>\n",
       "      <td>0.00</td>\n",
       "      <td>0.000</td>\n",
       "    </tr>\n",
       "  </tbody>\n",
       "</table>\n",
       "</div>"
      ],
      "text/plain": [
       "                       Feature Data Type  Train Missing %  Test Missing %  \\\n",
       "0                 podcast_name    object             0.00            0.00   \n",
       "1                episode_title    object             0.00            0.00   \n",
       "2       episode_length_minutes   float64             0.12            0.11   \n",
       "3                        genre    object             0.00            0.00   \n",
       "4   host_popularity_percentage   float64             0.00            0.00   \n",
       "5              publication_day    object             0.00            0.00   \n",
       "6             publication_time    object             0.00            0.00   \n",
       "7  guest_popularity_percentage   float64             0.19            0.20   \n",
       "8                number_of_ads   float64             0.00            0.00   \n",
       "9            episode_sentiment    object             0.00            0.00   \n",
       "\n",
       "   Discrete Ratio (Train)  \n",
       "0                   0.000  \n",
       "1                   0.000  \n",
       "2                   0.016  \n",
       "3                   0.000  \n",
       "4                   0.011  \n",
       "5                   0.000  \n",
       "6                   0.000  \n",
       "7                   0.013  \n",
       "8                   0.000  \n",
       "9                   0.000  "
      ]
     },
     "metadata": {},
     "output_type": "display_data"
    },
    {
     "name": "stdout",
     "output_type": "stream",
     "text": [
      "10 rows x 5 columns\n"
     ]
    }
   ],
   "source": [
    "out_cols = ['Feature', 'Data Type', 'Train Missing %', 'Test Missing %', \"Discrete Ratio (Train)\"]\n",
    "out = []\n",
    "\n",
    "for col in train_copy.columns:\n",
    "\n",
    "    if col in [target, 'id']:\n",
    "        continue\n",
    "    \n",
    "    data_type = train_copy[col].dtype\n",
    "\n",
    "    train_missing_share = round(train_copy[col].isna().sum() / train_copy.shape[0], 2)\n",
    "\n",
    "    test_missing_share = round(test_copy[col].isna().sum() / test_copy.shape[0], 2)\n",
    "\n",
    "    # Calculate discrete nature ratio (unique values / total values)\n",
    "    discrete_ratio = round(train_copy[col].nunique() / train_copy.shape[0], 3)\n",
    "\n",
    "    out.append([col, data_type, train_missing_share, test_missing_share, discrete_ratio])\n",
    "\n",
    "table = pd.DataFrame.from_records(out, columns = out_cols)\n",
    "\n",
    "show(table, 20)"
   ]
  },
  {
   "cell_type": "code",
   "execution_count": 8,
   "id": "8bc23af7",
   "metadata": {
    "execution": {
     "iopub.execute_input": "2025-04-03T13:38:12.940833Z",
     "iopub.status.busy": "2025-04-03T13:38:12.940499Z",
     "iopub.status.idle": "2025-04-03T13:38:13.312145Z",
     "shell.execute_reply": "2025-04-03T13:38:13.310708Z"
    },
    "papermill": {
     "duration": 0.381999,
     "end_time": "2025-04-03T13:38:13.314873",
     "exception": false,
     "start_time": "2025-04-03T13:38:12.932874",
     "status": "completed"
    },
    "tags": []
   },
   "outputs": [
    {
     "name": "stdout",
     "output_type": "stream",
     "text": [
      "Podcasts where guest_popularity_percentage is NULL:\n",
      "\n",
      " podcast_name\n",
      "Tech Talks             4734\n",
      "Sports Weekly          4442\n",
      "Business Insights      4239\n",
      "Sports Central         4026\n",
      "Tech Trends            4010\n",
      "Business Briefs        3984\n",
      "Melody Mix             3766\n",
      "Finance Focus          3614\n",
      "Style Guide            3547\n",
      "Criminal Minds         3511\n",
      "Funny Folks            3462\n",
      "Fitness First          3418\n",
      "Gadget Geek            3327\n",
      "Fashion Forward        3295\n",
      "Game Day               3213\n",
      "Detective Diaries      3204\n",
      "Crime Chronicles       3139\n",
      "World Watch            3103\n",
      "Athlete's Arena        3055\n",
      "Sport Spot             2998\n",
      "Comedy Corner          2986\n",
      "Digital Digest         2963\n",
      "Mystery Matters        2935\n",
      "Tune Time              2913\n",
      "Global News            2906\n",
      "True Crime Stories     2901\n",
      "Humor Hub              2890\n",
      "Home & Living          2848\n",
      "Life Lessons           2820\n",
      "Joke Junction          2769\n",
      "Educational Nuggets    2723\n",
      "Laugh Line             2703\n",
      "Daily Digest           2684\n",
      "Wellness Wave          2684\n",
      "Lifestyle Lounge       2659\n",
      "Sound Waves            2648\n",
      "Study Sessions         2642\n",
      "Learning Lab           2608\n",
      "Mind & Body            2604\n",
      "Money Matters          2550\n",
      "Innovators             2517\n",
      "Healthy Living         2510\n",
      "Current Affairs        2507\n",
      "Market Masters         2408\n",
      "Music Matters          2339\n",
      "Brain Boost            2325\n",
      "Health Hour            2026\n",
      "News Roundup           1875\n",
      "Name: count, dtype: int64\n"
     ]
    },
    {
     "data": {
      "text/html": [
       "<div>\n",
       "<style scoped>\n",
       "    .dataframe tbody tr th:only-of-type {\n",
       "        vertical-align: middle;\n",
       "    }\n",
       "\n",
       "    .dataframe tbody tr th {\n",
       "        vertical-align: top;\n",
       "    }\n",
       "\n",
       "    .dataframe thead th {\n",
       "        text-align: right;\n",
       "    }\n",
       "</style>\n",
       "<table border=\"1\" class=\"dataframe\">\n",
       "  <thead>\n",
       "    <tr style=\"text-align: right;\">\n",
       "      <th></th>\n",
       "      <th>id_null</th>\n",
       "      <th>id_original</th>\n",
       "      <th>episodes_share</th>\n",
       "    </tr>\n",
       "    <tr>\n",
       "      <th>podcast_name</th>\n",
       "      <th></th>\n",
       "      <th></th>\n",
       "      <th></th>\n",
       "    </tr>\n",
       "  </thead>\n",
       "  <tbody>\n",
       "    <tr>\n",
       "      <th>Sports Central</th>\n",
       "      <td>4026</td>\n",
       "      <td>16191</td>\n",
       "      <td>0.248657</td>\n",
       "    </tr>\n",
       "    <tr>\n",
       "      <th>Business Briefs</th>\n",
       "      <td>3984</td>\n",
       "      <td>17012</td>\n",
       "      <td>0.234188</td>\n",
       "    </tr>\n",
       "    <tr>\n",
       "      <th>Gadget Geek</th>\n",
       "      <td>3327</td>\n",
       "      <td>14770</td>\n",
       "      <td>0.225254</td>\n",
       "    </tr>\n",
       "    <tr>\n",
       "      <th>Educational Nuggets</th>\n",
       "      <td>2723</td>\n",
       "      <td>12245</td>\n",
       "      <td>0.222376</td>\n",
       "    </tr>\n",
       "    <tr>\n",
       "      <th>Sports Weekly</th>\n",
       "      <td>4442</td>\n",
       "      <td>20053</td>\n",
       "      <td>0.221513</td>\n",
       "    </tr>\n",
       "  </tbody>\n",
       "</table>\n",
       "</div>"
      ],
      "text/plain": [
       "                     id_null  id_original  episodes_share\n",
       "podcast_name                                             \n",
       "Sports Central          4026        16191        0.248657\n",
       "Business Briefs         3984        17012        0.234188\n",
       "Gadget Geek             3327        14770        0.225254\n",
       "Educational Nuggets     2723        12245        0.222376\n",
       "Sports Weekly           4442        20053        0.221513"
      ]
     },
     "metadata": {},
     "output_type": "display_data"
    },
    {
     "name": "stdout",
     "output_type": "stream",
     "text": [
      "48 rows x 3 columns\n",
      "Podcasts where episode_length_minutes is NULL:\n",
      "\n",
      " podcast_name\n",
      "Tech Talks             2757\n",
      "Sports Weekly          2557\n",
      "Funny Folks            2455\n",
      "Game Day               2408\n",
      "Business Insights      2332\n",
      "Tech Trends            2285\n",
      "Fitness First          2249\n",
      "Melody Mix             2222\n",
      "Style Guide            2112\n",
      "Criminal Minds         2106\n",
      "Digital Digest         2062\n",
      "Business Briefs        2038\n",
      "Tune Time              1991\n",
      "Finance Focus          1985\n",
      "Athlete's Arena        1979\n",
      "Sports Central         1964\n",
      "Crime Chronicles       1959\n",
      "Fashion Forward        1927\n",
      "Lifestyle Lounge       1914\n",
      "Detective Diaries      1906\n",
      "True Crime Stories     1898\n",
      "Comedy Corner          1870\n",
      "Gadget Geek            1857\n",
      "Mystery Matters        1818\n",
      "Humor Hub              1789\n",
      "Joke Junction          1763\n",
      "World Watch            1702\n",
      "Current Affairs        1671\n",
      "Home & Living          1650\n",
      "Sport Spot             1640\n",
      "Laugh Line             1626\n",
      "Study Sessions         1606\n",
      "Wellness Wave          1583\n",
      "Mind & Body            1576\n",
      "Daily Digest           1564\n",
      "Global News            1544\n",
      "Money Matters          1513\n",
      "Life Lessons           1485\n",
      "Sound Waves            1481\n",
      "Educational Nuggets    1462\n",
      "Innovators             1458\n",
      "Learning Lab           1448\n",
      "Music Matters          1443\n",
      "Market Masters         1403\n",
      "Brain Boost            1327\n",
      "Healthy Living         1285\n",
      "Health Hour            1281\n",
      "News Roundup           1142\n",
      "Name: count, dtype: int64\n"
     ]
    },
    {
     "data": {
      "text/html": [
       "<div>\n",
       "<style scoped>\n",
       "    .dataframe tbody tr th:only-of-type {\n",
       "        vertical-align: middle;\n",
       "    }\n",
       "\n",
       "    .dataframe tbody tr th {\n",
       "        vertical-align: top;\n",
       "    }\n",
       "\n",
       "    .dataframe thead th {\n",
       "        text-align: right;\n",
       "    }\n",
       "</style>\n",
       "<table border=\"1\" class=\"dataframe\">\n",
       "  <thead>\n",
       "    <tr style=\"text-align: right;\">\n",
       "      <th></th>\n",
       "      <th>id_null</th>\n",
       "      <th>id_original</th>\n",
       "      <th>episodes_share</th>\n",
       "    </tr>\n",
       "    <tr>\n",
       "      <th>podcast_name</th>\n",
       "      <th></th>\n",
       "      <th></th>\n",
       "      <th></th>\n",
       "    </tr>\n",
       "  </thead>\n",
       "  <tbody>\n",
       "    <tr>\n",
       "      <th>Digital Digest</th>\n",
       "      <td>2062</td>\n",
       "      <td>16171</td>\n",
       "      <td>0.127512</td>\n",
       "    </tr>\n",
       "    <tr>\n",
       "      <th>Sports Weekly</th>\n",
       "      <td>2557</td>\n",
       "      <td>20053</td>\n",
       "      <td>0.127512</td>\n",
       "    </tr>\n",
       "    <tr>\n",
       "      <th>Current Affairs</th>\n",
       "      <td>1671</td>\n",
       "      <td>13138</td>\n",
       "      <td>0.127188</td>\n",
       "    </tr>\n",
       "    <tr>\n",
       "      <th>Gadget Geek</th>\n",
       "      <td>1857</td>\n",
       "      <td>14770</td>\n",
       "      <td>0.125728</td>\n",
       "    </tr>\n",
       "    <tr>\n",
       "      <th>Funny Folks</th>\n",
       "      <td>2455</td>\n",
       "      <td>19635</td>\n",
       "      <td>0.125032</td>\n",
       "    </tr>\n",
       "  </tbody>\n",
       "</table>\n",
       "</div>"
      ],
      "text/plain": [
       "                 id_null  id_original  episodes_share\n",
       "podcast_name                                         \n",
       "Digital Digest      2062        16171        0.127512\n",
       "Sports Weekly       2557        20053        0.127512\n",
       "Current Affairs     1671        13138        0.127188\n",
       "Gadget Geek         1857        14770        0.125728\n",
       "Funny Folks         2455        19635        0.125032"
      ]
     },
     "metadata": {},
     "output_type": "display_data"
    },
    {
     "name": "stdout",
     "output_type": "stream",
     "text": [
      "48 rows x 3 columns\n"
     ]
    }
   ],
   "source": [
    "# guest_popularity_percentage\n",
    "#   - only certain podcasts?\n",
    "#   - share of episodes with null?\n",
    "null_guest_popularity_percentage = train_copy[train_copy['guest_popularity_percentage'].isnull()]\n",
    "grouped_null = null_guest_popularity_percentage.groupby('podcast_name').agg({'id': lambda x: x.nunique()})\n",
    "grouped_original = train_copy.groupby('podcast_name').agg({'id': lambda x: x.nunique()})\n",
    "tmp_df = grouped_null.merge(grouped_original, on='podcast_name', how='left', suffixes=['_null', '_original'])\n",
    "tmp_df['episodes_share'] = tmp_df['id_null'] / tmp_df['id_original']\n",
    "\n",
    "print(\"Podcasts where guest_popularity_percentage is NULL:\\n\\n\", null_guest_popularity_percentage['podcast_name'].value_counts())\n",
    "show(tmp_df.sort_values('episodes_share', ascending=False))\n",
    "\n",
    "# episode_length_minutes\n",
    "#   - only certain podcasts?\n",
    "#   - share of episodes with null?\n",
    "null_guest_popularity_percentage = train_copy[train_copy['episode_length_minutes'].isnull()]\n",
    "grouped_null = null_guest_popularity_percentage.groupby('podcast_name').agg({'id': lambda x: x.nunique()})\n",
    "grouped_original = train_copy.groupby('podcast_name').agg({'id': lambda x: x.nunique()})\n",
    "tmp_df = grouped_null.merge(grouped_original, on='podcast_name', how='left', suffixes=['_null', '_original'])\n",
    "tmp_df['episodes_share'] = tmp_df['id_null'] / tmp_df['id_original']\n",
    "\n",
    "print(\"Podcasts where episode_length_minutes is NULL:\\n\\n\", null_guest_popularity_percentage['podcast_name'].value_counts())\n",
    "show(tmp_df.sort_values('episodes_share', ascending=False))"
   ]
  },
  {
   "cell_type": "markdown",
   "id": "28e5a55e",
   "metadata": {
    "papermill": {
     "duration": 0.007372,
     "end_time": "2025-04-03T13:38:13.334606",
     "exception": false,
     "start_time": "2025-04-03T13:38:13.327234",
     "status": "completed"
    },
    "tags": []
   },
   "source": [
    "## Distribution of targets"
   ]
  },
  {
   "cell_type": "code",
   "execution_count": 9,
   "id": "95ebd8cf",
   "metadata": {
    "execution": {
     "iopub.execute_input": "2025-04-03T13:38:13.351093Z",
     "iopub.status.busy": "2025-04-03T13:38:13.350687Z",
     "iopub.status.idle": "2025-04-03T13:38:13.358173Z",
     "shell.execute_reply": "2025-04-03T13:38:13.357215Z"
    },
    "papermill": {
     "duration": 0.017428,
     "end_time": "2025-04-03T13:38:13.359677",
     "exception": false,
     "start_time": "2025-04-03T13:38:13.342249",
     "status": "completed"
    },
    "tags": []
   },
   "outputs": [
    {
     "name": "stdout",
     "output_type": "stream",
     "text": [
      "0.0 119.97\n"
     ]
    }
   ],
   "source": [
    "print(train_copy[target].min(), train_copy[target].max())"
   ]
  },
  {
   "cell_type": "code",
   "execution_count": 10,
   "id": "bb11a6e5",
   "metadata": {
    "execution": {
     "iopub.execute_input": "2025-04-03T13:38:13.376655Z",
     "iopub.status.busy": "2025-04-03T13:38:13.376296Z",
     "iopub.status.idle": "2025-04-03T13:38:13.837381Z",
     "shell.execute_reply": "2025-04-03T13:38:13.835952Z"
    },
    "papermill": {
     "duration": 0.471805,
     "end_time": "2025-04-03T13:38:13.839231",
     "exception": false,
     "start_time": "2025-04-03T13:38:13.367426",
     "status": "completed"
    },
    "tags": []
   },
   "outputs": [
    {
     "name": "stdout",
     "output_type": "stream",
     "text": [
      "{0: 0, 10: 10, 20: 20, 30: 30, 40: 40, 50: 50, 60: 60, 70: 70, 80: 80, 90: 90, 100: 100, 110: 110, 120: 120}\n",
      "duration_binned\n",
      "40     93601\n",
      "30     91557\n",
      "50     91095\n",
      "60     89527\n",
      "20     88414\n",
      "70     75502\n",
      "10     61391\n",
      "80     58699\n",
      "90     41833\n",
      "100    28653\n",
      "110    14332\n",
      "0       8551\n",
      "120     6845\n",
      "Name: count, dtype: int64\n"
     ]
    }
   ],
   "source": [
    "bins = {i: i for i in range(0, 130, 10)}\n",
    "print(bins)\n",
    "train_copy['duration_binned'] = train_copy[target].apply(lambda x: bins[math.ceil(x/10) * 10])\n",
    "print(train_copy['duration_binned'].value_counts())"
   ]
  },
  {
   "cell_type": "code",
   "execution_count": 11,
   "id": "e6c168aa",
   "metadata": {
    "execution": {
     "iopub.execute_input": "2025-04-03T13:38:13.857530Z",
     "iopub.status.busy": "2025-04-03T13:38:13.857119Z",
     "iopub.status.idle": "2025-04-03T13:38:17.187162Z",
     "shell.execute_reply": "2025-04-03T13:38:17.186039Z"
    },
    "papermill": {
     "duration": 3.341075,
     "end_time": "2025-04-03T13:38:17.188963",
     "exception": false,
     "start_time": "2025-04-03T13:38:13.847888",
     "status": "completed"
    },
    "tags": []
   },
   "outputs": [
    {
     "data": {
      "text/plain": [
       "<Axes: xlabel='listening_time_minutes', ylabel='Density'>"
      ]
     },
     "execution_count": 11,
     "metadata": {},
     "output_type": "execute_result"
    },
    {
     "data": {
      "image/png": "[encoded data removed]",
      "text/plain": [
       "<Figure size 700x400 with 1 Axes>"
      ]
     },
     "metadata": {},
     "output_type": "display_data"
    }
   ],
   "source": [
    "sns.set_theme(rc={'figure.figsize':(7, 4)})\n",
    "sns.kdeplot(data=train_copy, x=target)"
   ]
  },
  {
   "cell_type": "code",
   "execution_count": 12,
   "id": "17490a13",
   "metadata": {
    "execution": {
     "iopub.execute_input": "2025-04-03T13:38:17.207897Z",
     "iopub.status.busy": "2025-04-03T13:38:17.207458Z",
     "iopub.status.idle": "2025-04-03T13:38:17.214000Z",
     "shell.execute_reply": "2025-04-03T13:38:17.212762Z"
    },
    "papermill": {
     "duration": 0.017953,
     "end_time": "2025-04-03T13:38:17.215546",
     "exception": false,
     "start_time": "2025-04-03T13:38:17.197593",
     "status": "completed"
    },
    "tags": []
   },
   "outputs": [
    {
     "name": "stdout",
     "output_type": "stream",
     "text": [
      "['id', 'episode_length_minutes', 'host_popularity_percentage', 'guest_popularity_percentage', 'number_of_ads', 'listening_time_minutes', 'duration_binned'] ['genre', 'publication_day', 'publication_time', 'episode_sentiment', 'podcast_name', 'episode_title']\n"
     ]
    }
   ],
   "source": [
    "num_columns = list(train_copy._get_numeric_data().columns)\n",
    "cat_columns = list(set(train_copy.columns) - set(num_columns))\n",
    "\n",
    "print(num_columns, cat_columns)"
   ]
  },
  {
   "cell_type": "code",
   "execution_count": 13,
   "id": "81780e3d",
   "metadata": {
    "execution": {
     "iopub.execute_input": "2025-04-03T13:38:17.234263Z",
     "iopub.status.busy": "2025-04-03T13:38:17.233788Z",
     "iopub.status.idle": "2025-04-03T13:38:33.308704Z",
     "shell.execute_reply": "2025-04-03T13:38:33.307450Z"
    },
    "papermill": {
     "duration": 16.087404,
     "end_time": "2025-04-03T13:38:33.311772",
     "exception": false,
     "start_time": "2025-04-03T13:38:17.224368",
     "status": "completed"
    },
    "tags": []
   },
   "outputs": [
    {
     "data": {
      "image/png": "[encoded data removed]",
      "text/plain": [
       "<Figure size 1500x1000 with 6 Axes>"
      ]
     },
     "metadata": {},
     "output_type": "display_data"
    }
   ],
   "source": [
    "fig, ax = plt.subplots(3, 2, figsize=(15, 10))\n",
    "\n",
    "ax = ax.flatten()\n",
    "\n",
    "i = 0\n",
    "for col in num_columns:\n",
    "    if col not in ['id', target, 'duration_binned']:\n",
    "        sns.kdeplot(data=train_copy, x=col, ax=ax[i], label='Train', fill=True)\n",
    "        sns.kdeplot(data=test_copy, x=col, ax=ax[i], label='Test', fill=True)\n",
    "        ax[i].set_title(col)\n",
    "        ax[i].legend()\n",
    "        \n",
    "        i+=1\n",
    "\n",
    "plt.tight_layout()\n",
    "\n",
    "for j in range (i, len(ax)):\n",
    "    ax[j].axis('off')\n",
    "\n",
    "plt.show()"
   ]
  },
  {
   "cell_type": "markdown",
   "id": "a401e835",
   "metadata": {
    "papermill": {
     "duration": 0.010672,
     "end_time": "2025-04-03T13:38:33.333974",
     "exception": false,
     "start_time": "2025-04-03T13:38:33.323302",
     "status": "completed"
    },
    "tags": []
   },
   "source": [
    "# Feature engineering"
   ]
  },
  {
   "cell_type": "code",
   "execution_count": 14,
   "id": "2b6cb43b",
   "metadata": {
    "execution": {
     "iopub.execute_input": "2025-04-03T13:38:33.356946Z",
     "iopub.status.busy": "2025-04-03T13:38:33.356561Z",
     "iopub.status.idle": "2025-04-03T13:38:41.258118Z",
     "shell.execute_reply": "2025-04-03T13:38:41.256947Z"
    },
    "papermill": {
     "duration": 7.915175,
     "end_time": "2025-04-03T13:38:41.259918",
     "exception": false,
     "start_time": "2025-04-03T13:38:33.344743",
     "status": "completed"
    },
    "tags": []
   },
   "outputs": [
    {
     "data": {
      "text/html": [
       "<div>\n",
       "<style scoped>\n",
       "    .dataframe tbody tr th:only-of-type {\n",
       "        vertical-align: middle;\n",
       "    }\n",
       "\n",
       "    .dataframe tbody tr th {\n",
       "        vertical-align: top;\n",
       "    }\n",
       "\n",
       "    .dataframe thead th {\n",
       "        text-align: right;\n",
       "    }\n",
       "</style>\n",
       "<table border=\"1\" class=\"dataframe\">\n",
       "  <thead>\n",
       "    <tr style=\"text-align: right;\">\n",
       "      <th></th>\n",
       "      <th>id</th>\n",
       "      <th>episode_length_minutes</th>\n",
       "      <th>host_popularity_percentage</th>\n",
       "      <th>guest_popularity_percentage</th>\n",
       "      <th>number_of_ads</th>\n",
       "      <th>listening_time_minutes</th>\n",
       "      <th>genre_Business</th>\n",
       "      <th>genre_Comedy</th>\n",
       "      <th>genre_Education</th>\n",
       "      <th>genre_Health</th>\n",
       "      <th>...</th>\n",
       "      <th>episode_title_Episode 90</th>\n",
       "      <th>episode_title_Episode 91</th>\n",
       "      <th>episode_title_Episode 92</th>\n",
       "      <th>episode_title_Episode 93</th>\n",
       "      <th>episode_title_Episode 94</th>\n",
       "      <th>episode_title_Episode 95</th>\n",
       "      <th>episode_title_Episode 96</th>\n",
       "      <th>episode_title_Episode 97</th>\n",
       "      <th>episode_title_Episode 98</th>\n",
       "      <th>episode_title_Episode 99</th>\n",
       "    </tr>\n",
       "  </thead>\n",
       "  <tbody>\n",
       "    <tr>\n",
       "      <th>0</th>\n",
       "      <td>0</td>\n",
       "      <td>NaN</td>\n",
       "      <td>74.81</td>\n",
       "      <td>NaN</td>\n",
       "      <td>0.0</td>\n",
       "      <td>31.41998</td>\n",
       "      <td>0.0</td>\n",
       "      <td>0.0</td>\n",
       "      <td>0.0</td>\n",
       "      <td>0.0</td>\n",
       "      <td>...</td>\n",
       "      <td>0.0</td>\n",
       "      <td>0.0</td>\n",
       "      <td>0.0</td>\n",
       "      <td>0.0</td>\n",
       "      <td>0.0</td>\n",
       "      <td>0.0</td>\n",
       "      <td>0.0</td>\n",
       "      <td>0.0</td>\n",
       "      <td>1.0</td>\n",
       "      <td>0.0</td>\n",
       "    </tr>\n",
       "    <tr>\n",
       "      <th>1</th>\n",
       "      <td>1</td>\n",
       "      <td>119.80</td>\n",
       "      <td>66.95</td>\n",
       "      <td>75.95</td>\n",
       "      <td>2.0</td>\n",
       "      <td>88.01241</td>\n",
       "      <td>0.0</td>\n",
       "      <td>1.0</td>\n",
       "      <td>0.0</td>\n",
       "      <td>0.0</td>\n",
       "      <td>...</td>\n",
       "      <td>0.0</td>\n",
       "      <td>0.0</td>\n",
       "      <td>0.0</td>\n",
       "      <td>0.0</td>\n",
       "      <td>0.0</td>\n",
       "      <td>0.0</td>\n",
       "      <td>0.0</td>\n",
       "      <td>0.0</td>\n",
       "      <td>0.0</td>\n",
       "      <td>0.0</td>\n",
       "    </tr>\n",
       "    <tr>\n",
       "      <th>2</th>\n",
       "      <td>2</td>\n",
       "      <td>73.90</td>\n",
       "      <td>69.97</td>\n",
       "      <td>8.97</td>\n",
       "      <td>0.0</td>\n",
       "      <td>44.92531</td>\n",
       "      <td>0.0</td>\n",
       "      <td>0.0</td>\n",
       "      <td>1.0</td>\n",
       "      <td>0.0</td>\n",
       "      <td>...</td>\n",
       "      <td>0.0</td>\n",
       "      <td>0.0</td>\n",
       "      <td>0.0</td>\n",
       "      <td>0.0</td>\n",
       "      <td>0.0</td>\n",
       "      <td>0.0</td>\n",
       "      <td>0.0</td>\n",
       "      <td>0.0</td>\n",
       "      <td>0.0</td>\n",
       "      <td>0.0</td>\n",
       "    </tr>\n",
       "    <tr>\n",
       "      <th>3</th>\n",
       "      <td>3</td>\n",
       "      <td>67.17</td>\n",
       "      <td>57.22</td>\n",
       "      <td>78.70</td>\n",
       "      <td>2.0</td>\n",
       "      <td>46.27824</td>\n",
       "      <td>0.0</td>\n",
       "      <td>0.0</td>\n",
       "      <td>0.0</td>\n",
       "      <td>0.0</td>\n",
       "      <td>...</td>\n",
       "      <td>0.0</td>\n",
       "      <td>0.0</td>\n",
       "      <td>0.0</td>\n",
       "      <td>0.0</td>\n",
       "      <td>0.0</td>\n",
       "      <td>0.0</td>\n",
       "      <td>0.0</td>\n",
       "      <td>0.0</td>\n",
       "      <td>0.0</td>\n",
       "      <td>0.0</td>\n",
       "    </tr>\n",
       "    <tr>\n",
       "      <th>4</th>\n",
       "      <td>4</td>\n",
       "      <td>110.51</td>\n",
       "      <td>80.07</td>\n",
       "      <td>58.68</td>\n",
       "      <td>3.0</td>\n",
       "      <td>75.61031</td>\n",
       "      <td>0.0</td>\n",
       "      <td>0.0</td>\n",
       "      <td>0.0</td>\n",
       "      <td>1.0</td>\n",
       "      <td>...</td>\n",
       "      <td>0.0</td>\n",
       "      <td>0.0</td>\n",
       "      <td>0.0</td>\n",
       "      <td>0.0</td>\n",
       "      <td>0.0</td>\n",
       "      <td>0.0</td>\n",
       "      <td>0.0</td>\n",
       "      <td>0.0</td>\n",
       "      <td>0.0</td>\n",
       "      <td>0.0</td>\n",
       "    </tr>\n",
       "  </tbody>\n",
       "</table>\n",
       "<p>5 rows × 178 columns</p>\n",
       "</div>"
      ],
      "text/plain": [
       "   id  episode_length_minutes  host_popularity_percentage  \\\n",
       "0   0                     NaN                       74.81   \n",
       "1   1                  119.80                       66.95   \n",
       "2   2                   73.90                       69.97   \n",
       "3   3                   67.17                       57.22   \n",
       "4   4                  110.51                       80.07   \n",
       "\n",
       "   guest_popularity_percentage  number_of_ads  listening_time_minutes  \\\n",
       "0                          NaN            0.0                31.41998   \n",
       "1                        75.95            2.0                88.01241   \n",
       "2                         8.97            0.0                44.92531   \n",
       "3                        78.70            2.0                46.27824   \n",
       "4                        58.68            3.0                75.61031   \n",
       "\n",
       "   genre_Business  genre_Comedy  genre_Education  genre_Health  ...  \\\n",
       "0             0.0           0.0              0.0           0.0  ...   \n",
       "1             0.0           1.0              0.0           0.0  ...   \n",
       "2             0.0           0.0              1.0           0.0  ...   \n",
       "3             0.0           0.0              0.0           0.0  ...   \n",
       "4             0.0           0.0              0.0           1.0  ...   \n",
       "\n",
       "   episode_title_Episode 90  episode_title_Episode 91  \\\n",
       "0                       0.0                       0.0   \n",
       "1                       0.0                       0.0   \n",
       "2                       0.0                       0.0   \n",
       "3                       0.0                       0.0   \n",
       "4                       0.0                       0.0   \n",
       "\n",
       "   episode_title_Episode 92  episode_title_Episode 93  \\\n",
       "0                       0.0                       0.0   \n",
       "1                       0.0                       0.0   \n",
       "2                       0.0                       0.0   \n",
       "3                       0.0                       0.0   \n",
       "4                       0.0                       0.0   \n",
       "\n",
       "   episode_title_Episode 94  episode_title_Episode 95  \\\n",
       "0                       0.0                       0.0   \n",
       "1                       0.0                       0.0   \n",
       "2                       0.0                       0.0   \n",
       "3                       0.0                       0.0   \n",
       "4                       0.0                       0.0   \n",
       "\n",
       "   episode_title_Episode 96  episode_title_Episode 97  \\\n",
       "0                       0.0                       0.0   \n",
       "1                       0.0                       0.0   \n",
       "2                       0.0                       0.0   \n",
       "3                       0.0                       0.0   \n",
       "4                       0.0                       0.0   \n",
       "\n",
       "   episode_title_Episode 98  episode_title_Episode 99  \n",
       "0                       1.0                       0.0  \n",
       "1                       0.0                       0.0  \n",
       "2                       0.0                       0.0  \n",
       "3                       0.0                       0.0  \n",
       "4                       0.0                       0.0  \n",
       "\n",
       "[5 rows x 178 columns]"
      ]
     },
     "metadata": {},
     "output_type": "display_data"
    },
    {
     "name": "stdout",
     "output_type": "stream",
     "text": [
      "750000 rows x 178 columns\n"
     ]
    }
   ],
   "source": [
    "ohe = OneHotEncoder(sparse_output=False, drop=None, handle_unknown='ignore')\n",
    "train_cat = ohe.fit_transform(train_df[cat_columns])\n",
    "test_cat = ohe.transform(test_df[cat_columns])\n",
    "\n",
    "# Get meaningful column names\n",
    "encoded_feature_names = ohe.get_feature_names_out(cat_columns)\n",
    "\n",
    "# Convert encoded data into a DataFrame\n",
    "encoded_train_df = pd.DataFrame(train_cat, columns=encoded_feature_names, index=train_df.index)\n",
    "encoded_test_df = pd.DataFrame(test_cat, columns=encoded_feature_names, index=test_df.index)\n",
    "\n",
    "# Drop original categorical columns and concatenate one-hot encoded columns\n",
    "train_df_final = pd.concat([train_df.drop(columns=cat_columns), encoded_train_df], axis=1)\n",
    "test_df_final = pd.concat([test_df.drop(columns=cat_columns), encoded_test_df], axis=1)\n",
    "\n",
    "show(train_df_final)"
   ]
  },
  {
   "cell_type": "markdown",
   "id": "c51244fa",
   "metadata": {
    "papermill": {
     "duration": 0.01129,
     "end_time": "2025-04-03T13:38:41.283259",
     "exception": false,
     "start_time": "2025-04-03T13:38:41.271969",
     "status": "completed"
    },
    "tags": []
   },
   "source": [
    "# Modeling"
   ]
  },
  {
   "cell_type": "code",
   "execution_count": 15,
   "id": "86985d0b",
   "metadata": {
    "execution": {
     "iopub.execute_input": "2025-04-03T13:38:41.307437Z",
     "iopub.status.busy": "2025-04-03T13:38:41.307049Z",
     "iopub.status.idle": "2025-04-03T13:38:43.242649Z",
     "shell.execute_reply": "2025-04-03T13:38:43.241229Z"
    },
    "papermill": {
     "duration": 1.950453,
     "end_time": "2025-04-03T13:38:43.245146",
     "exception": false,
     "start_time": "2025-04-03T13:38:41.294693",
     "status": "completed"
    },
    "tags": []
   },
   "outputs": [],
   "source": [
    "train_cols = [i for i in train_df_final.columns if i not in [target, 'id']]\n",
    "X_train, X_test, y_train, y_test = train_test_split(train_df_final[train_cols], train_df_final[target], test_size=0.33, random_state=42)"
   ]
  },
  {
   "cell_type": "code",
   "execution_count": 16,
   "id": "00ebd695",
   "metadata": {
    "execution": {
     "iopub.execute_input": "2025-04-03T13:38:43.270498Z",
     "iopub.status.busy": "2025-04-03T13:38:43.270162Z",
     "iopub.status.idle": "2025-04-03T13:40:16.819548Z",
     "shell.execute_reply": "2025-04-03T13:40:16.815440Z"
    },
    "papermill": {
     "duration": 93.57541,
     "end_time": "2025-04-03T13:40:16.832735",
     "exception": false,
     "start_time": "2025-04-03T13:38:43.257325",
     "status": "completed"
    },
    "tags": []
   },
   "outputs": [
    {
     "name": "stdout",
     "output_type": "stream",
     "text": [
      "Score:  12.91756132840391\n"
     ]
    }
   ],
   "source": [
    "model = xgboost.XGBRegressor(n_estimators=1000, max_depth=7, eta=0.1, subsample=0.7, colsample_bytree=0.8)\n",
    "model.fit(X_train, y_train)\n",
    "y_pred = model.predict(X_test)\n",
    "\n",
    "print(\"Score: \", np.sqrt(mean_squared_error(y_test, y_pred)))"
   ]
  },
  {
   "cell_type": "code",
   "execution_count": 17,
   "id": "1f31af87",
   "metadata": {
    "execution": {
     "iopub.execute_input": "2025-04-03T13:40:16.857398Z",
     "iopub.status.busy": "2025-04-03T13:40:16.856992Z",
     "iopub.status.idle": "2025-04-03T13:40:16.865199Z",
     "shell.execute_reply": "2025-04-03T13:40:16.864084Z"
    },
    "papermill": {
     "duration": 0.022486,
     "end_time": "2025-04-03T13:40:16.866891",
     "exception": false,
     "start_time": "2025-04-03T13:40:16.844405",
     "status": "completed"
    },
    "tags": []
   },
   "outputs": [
    {
     "name": "stdout",
     "output_type": "stream",
     "text": [
      "Score:  12.91756132840391\n"
     ]
    }
   ],
   "source": [
    "print(\"Score: \", np.sqrt(mean_squared_error(y_test, y_pred)))"
   ]
  },
  {
   "cell_type": "markdown",
   "id": "7584bd42",
   "metadata": {
    "papermill": {
     "duration": 0.011334,
     "end_time": "2025-04-03T13:40:16.889997",
     "exception": false,
     "start_time": "2025-04-03T13:40:16.878663",
     "status": "completed"
    },
    "tags": []
   },
   "source": [
    "# Submission"
   ]
  },
  {
   "cell_type": "code",
   "execution_count": 18,
   "id": "fe7e54ae",
   "metadata": {
    "execution": {
     "iopub.execute_input": "2025-04-03T13:40:16.914664Z",
     "iopub.status.busy": "2025-04-03T13:40:16.914308Z",
     "iopub.status.idle": "2025-04-03T13:40:21.400308Z",
     "shell.execute_reply": "2025-04-03T13:40:21.399419Z"
    },
    "papermill": {
     "duration": 4.500846,
     "end_time": "2025-04-03T13:40:21.402529",
     "exception": false,
     "start_time": "2025-04-03T13:40:16.901683",
     "status": "completed"
    },
    "tags": []
   },
   "outputs": [],
   "source": [
    "predictions = model.predict(test_df_final[train_cols])"
   ]
  },
  {
   "cell_type": "code",
   "execution_count": 19,
   "id": "fad4d651",
   "metadata": {
    "execution": {
     "iopub.execute_input": "2025-04-03T13:40:21.429443Z",
     "iopub.status.busy": "2025-04-03T13:40:21.429074Z",
     "iopub.status.idle": "2025-04-03T13:40:21.439710Z",
     "shell.execute_reply": "2025-04-03T13:40:21.438448Z"
    },
    "papermill": {
     "duration": 0.025021,
     "end_time": "2025-04-03T13:40:21.441369",
     "exception": false,
     "start_time": "2025-04-03T13:40:21.416348",
     "status": "completed"
    },
    "tags": []
   },
   "outputs": [
    {
     "data": {
      "text/html": [
       "<div>\n",
       "<style scoped>\n",
       "    .dataframe tbody tr th:only-of-type {\n",
       "        vertical-align: middle;\n",
       "    }\n",
       "\n",
       "    .dataframe tbody tr th {\n",
       "        vertical-align: top;\n",
       "    }\n",
       "\n",
       "    .dataframe thead th {\n",
       "        text-align: right;\n",
       "    }\n",
       "</style>\n",
       "<table border=\"1\" class=\"dataframe\">\n",
       "  <thead>\n",
       "    <tr style=\"text-align: right;\">\n",
       "      <th></th>\n",
       "      <th>id</th>\n",
       "      <th>listening_time_minutes</th>\n",
       "    </tr>\n",
       "  </thead>\n",
       "  <tbody>\n",
       "    <tr>\n",
       "      <th>0</th>\n",
       "      <td>750000</td>\n",
       "      <td>53.596062</td>\n",
       "    </tr>\n",
       "    <tr>\n",
       "      <th>1</th>\n",
       "      <td>750001</td>\n",
       "      <td>17.805449</td>\n",
       "    </tr>\n",
       "    <tr>\n",
       "      <th>2</th>\n",
       "      <td>750002</td>\n",
       "      <td>48.903088</td>\n",
       "    </tr>\n",
       "    <tr>\n",
       "      <th>3</th>\n",
       "      <td>750003</td>\n",
       "      <td>79.076790</td>\n",
       "    </tr>\n",
       "    <tr>\n",
       "      <th>4</th>\n",
       "      <td>750004</td>\n",
       "      <td>47.242050</td>\n",
       "    </tr>\n",
       "  </tbody>\n",
       "</table>\n",
       "</div>"
      ],
      "text/plain": [
       "       id  listening_time_minutes\n",
       "0  750000               53.596062\n",
       "1  750001               17.805449\n",
       "2  750002               48.903088\n",
       "3  750003               79.076790\n",
       "4  750004               47.242050"
      ]
     },
     "metadata": {},
     "output_type": "display_data"
    },
    {
     "name": "stdout",
     "output_type": "stream",
     "text": [
      "250000 rows x 2 columns\n"
     ]
    }
   ],
   "source": [
    "output = pd.DataFrame.from_dict(data={'id': test_df_final['id'], 'listening_time_minutes': predictions})\n",
    "show(output)"
   ]
  },
  {
   "cell_type": "code",
   "execution_count": 20,
   "id": "1dbf93ed",
   "metadata": {
    "execution": {
     "iopub.execute_input": "2025-04-03T13:40:21.467216Z",
     "iopub.status.busy": "2025-04-03T13:40:21.466769Z",
     "iopub.status.idle": "2025-04-03T13:40:21.840816Z",
     "shell.execute_reply": "2025-04-03T13:40:21.839625Z"
    },
    "papermill": {
     "duration": 0.389002,
     "end_time": "2025-04-03T13:40:21.842984",
     "exception": false,
     "start_time": "2025-04-03T13:40:21.453982",
     "status": "completed"
    },
    "tags": []
   },
   "outputs": [],
   "source": [
    "output.to_csv('submission.csv', index=False)"
   ]
  },
  {
   "cell_type": "code",
   "execution_count": null,
   "id": "ba69d097",
   "metadata": {
    "papermill": {
     "duration": 0.011637,
     "end_time": "2025-04-03T13:40:21.867657",
     "exception": false,
     "start_time": "2025-04-03T13:40:21.856020",
     "status": "completed"
    },
    "tags": []
   },
   "outputs": [],
   "source": []
  }
 ],
 "metadata": {
  "kaggle": {
   "accelerator": "none",
   "dataSources": [
    {
     "databundleVersionId": 11351736,
     "sourceId": 91715,
     "sourceType": "competition"
    }
   ],
   "dockerImageVersionId": 30918,
   "isGpuEnabled": false,
   "isInternetEnabled": true,
   "language": "python",
   "sourceType": "notebook"
  },
  "kernelspec": {
   "display_name": "Python 3",
   "language": "python",
   "name": "python3"
  },
  "language_info": {
   "codemirror_mode": {
    "name": "ipython",
    "version": 3
   },
   "file_extension": ".py",
   "mimetype": "text/x-python",
   "name": "python",
   "nbconvert_exporter": "python",
   "pygments_lexer": "ipython3",
   "version": "3.10.12"
  },
  "papermill": {
   "default_parameters": {},
   "duration": 158.766381,
   "end_time": "2025-04-03T13:40:24.585322",
   "environment_variables": {},
   "exception": null,
   "input_path": "__notebook__.ipynb",
   "output_path": "__notebook__.ipynb",
   "parameters": {},
   "start_time": "2025-04-03T13:37:45.818941",
   "version": "2.6.0"
  }
 },
 "nbformat": 4,
 "nbformat_minor": 5
}
